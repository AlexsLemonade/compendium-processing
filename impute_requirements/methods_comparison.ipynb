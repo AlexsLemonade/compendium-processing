{
 "cells": [
  {
   "cell_type": "markdown",
   "metadata": {},
   "source": [
    "A comparison of `IterativeSVD`, `SoftImpute` and `KNN` methods using the `sleipnir_fancyimpute` Docker image"
   ]
  },
  {
   "cell_type": "code",
   "execution_count": 1,
   "metadata": {},
   "outputs": [
    {
     "name": "stderr",
     "output_type": "stream",
     "text": [
      "/opt/conda/lib/python3.6/site-packages/h5py/__init__.py:36: FutureWarning: Conversion of the second argument of issubdtype from `float` to `np.floating` is deprecated. In future, it will be treated as `np.float64 == np.dtype(float).type`.\n",
      "  from ._conv import register_converters as _register_converters\n",
      "Using TensorFlow backend.\n"
     ]
    }
   ],
   "source": [
    "import argparse\n",
    "import pandas as pd\n",
    "import numpy as np\n",
    "import random\n",
    "import time\n",
    "from fancyimpute import KNN, BiScaler, SoftImpute, IterativeSVD\n",
    "from sklearn import preprocessing"
   ]
  },
  {
   "cell_type": "code",
   "execution_count": 2,
   "metadata": {},
   "outputs": [],
   "source": [
    "input_file = 'impute_requirements/sampled_data/all_log_1663_MCAR_genes_15000_samples_1000.pcl'"
   ]
  },
  {
   "cell_type": "code",
   "execution_count": 3,
   "metadata": {},
   "outputs": [],
   "source": [
    "random.seed(123)\n",
    "np.random.seed(123)"
   ]
  },
  {
   "cell_type": "code",
   "execution_count": 4,
   "metadata": {},
   "outputs": [],
   "source": [
    "# read in data and transpose\n",
    "data = pd.read_csv(input_file, sep='\\t', header=0, index_col=0, \n",
    "\t\t\t\t   error_bad_lines=False)\n",
    "new_data = data.copy()\n",
    "transposed = new_data.T"
   ]
  },
  {
   "cell_type": "code",
   "execution_count": 5,
   "metadata": {},
   "outputs": [
    {
     "name": "stdout",
     "output_type": "stream",
     "text": [
      "[IterativeSVD] Iter 1: observed MAE=1.474894\n",
      "[IterativeSVD] Iter 2: observed MAE=0.908067\n",
      "[IterativeSVD] Iter 3: observed MAE=0.683420\n",
      "[IterativeSVD] Iter 4: observed MAE=0.526641\n",
      "[IterativeSVD] Iter 5: observed MAE=0.483810\n",
      "[IterativeSVD] Iter 6: observed MAE=0.479939\n",
      "[IterativeSVD] Iter 7: observed MAE=0.479618\n",
      "[IterativeSVD] Iter 8: observed MAE=0.479640\n",
      "[IterativeSVD] Iter 9: observed MAE=0.479674\n"
     ]
    }
   ],
   "source": [
    "svd_t0 = time.time()\n",
    "# standard scaled\n",
    "imputed_svd = IterativeSVD(rank=10).fit_transform(transposed)\n",
    "svd_t1 = time.time()"
   ]
  },
  {
   "cell_type": "code",
   "execution_count": 6,
   "metadata": {},
   "outputs": [
    {
     "name": "stderr",
     "output_type": "stream",
     "text": [
      "/opt/conda/lib/python3.6/site-packages/ipykernel_launcher.py:1: FutureWarning: Method .as_matrix will be removed in a future version. Use .values instead.\n",
      "  \"\"\"Entry point for launching an IPython kernel.\n"
     ]
    },
    {
     "name": "stdout",
     "output_type": "stream",
     "text": [
      "[BiScaler] Initial log residual value = 12.793512\n",
      "[BiScaler] Iter 1: log residual = 6.534825, log improvement ratio=6.258687\n",
      "[BiScaler] Iter 2: log residual = 6.142832, log improvement ratio=0.391992\n",
      "[BiScaler] Iter 3: log residual = 4.319951, log improvement ratio=1.822881\n",
      "[BiScaler] Iter 4: log residual = 2.208265, log improvement ratio=2.111686\n",
      "[BiScaler] Iter 5: log residual = 0.291531, log improvement ratio=1.916734\n",
      "[BiScaler] Iter 6: log residual = -1.474242, log improvement ratio=1.765773\n",
      "[BiScaler] Iter 7: log residual = -3.149361, log improvement ratio=1.675118\n",
      "[BiScaler] Iter 8: log residual = -4.772535, log improvement ratio=1.623174\n",
      "[BiScaler] Iter 9: log residual = -6.366557, log improvement ratio=1.594022\n",
      "[BiScaler] Iter 10: log residual = -7.944430, log improvement ratio=1.577873\n",
      "[BiScaler] Iter 11: log residual = -9.513400, log improvement ratio=1.568970\n",
      "[BiScaler] Iter 12: log residual = -11.077466, log improvement ratio=1.564066\n",
      "[BiScaler] Iter 13: log residual = -12.638831, log improvement ratio=1.561365\n",
      "[BiScaler] Iter 14: log residual = -14.198706, log improvement ratio=1.559875\n",
      "[BiScaler] Iter 15: log residual = -15.757759, log improvement ratio=1.559053\n",
      "[BiScaler] Iter 16: log residual = -17.316357, log improvement ratio=1.558598\n",
      "[BiScaler] Iter 17: log residual = -18.874704, log improvement ratio=1.558347\n",
      "[BiScaler] Iter 18: log residual = -20.432911, log improvement ratio=1.558207\n",
      "[BiScaler] Iter 19: log residual = -21.991041, log improvement ratio=1.558130\n",
      "[BiScaler] Iter 20: log residual = -23.549129, log improvement ratio=1.558087\n",
      "[BiScaler] Iter 21: log residual = -25.107192, log improvement ratio=1.558064\n",
      "[BiScaler] Iter 22: log residual = -26.665243, log improvement ratio=1.558051\n",
      "[BiScaler] Iter 23: log residual = -28.223286, log improvement ratio=1.558043\n",
      "[BiScaler] Iter 24: log residual = -29.781326, log improvement ratio=1.558039\n",
      "[BiScaler] Iter 25: log residual = -31.339363, log improvement ratio=1.558037\n",
      "[BiScaler] Iter 26: log residual = -32.897398, log improvement ratio=1.558036\n",
      "[BiScaler] Iter 27: log residual = -34.455433, log improvement ratio=1.558035\n",
      "[BiScaler] Iter 28: log residual = -36.013468, log improvement ratio=1.558035\n",
      "[BiScaler] Iter 29: log residual = -37.571503, log improvement ratio=1.558035\n",
      "[BiScaler] Iter 30: log residual = -39.129537, log improvement ratio=1.558034\n",
      "[BiScaler] Iter 31: log residual = -40.687569, log improvement ratio=1.558032\n",
      "[BiScaler] Iter 32: log residual = -42.245599, log improvement ratio=1.558030\n",
      "[BiScaler] Iter 33: log residual = -43.803651, log improvement ratio=1.558052\n",
      "[BiScaler] Iter 34: log residual = -45.361692, log improvement ratio=1.558041\n",
      "[BiScaler] Iter 35: log residual = -46.919769, log improvement ratio=1.558077\n",
      "[BiScaler] Iter 36: log residual = -48.477641, log improvement ratio=1.557872\n",
      "[BiScaler] Iter 37: log residual = -50.035956, log improvement ratio=1.558314\n",
      "[BiScaler] Iter 38: log residual = -51.593962, log improvement ratio=1.558006\n",
      "[BiScaler] Iter 39: log residual = -53.148805, log improvement ratio=1.554843\n",
      "[BiScaler] Iter 40: log residual = -54.691370, log improvement ratio=1.542565\n",
      "[BiScaler] Iter 41: log residual = -56.180272, log improvement ratio=1.488902\n",
      "[BiScaler] Iter 42: log residual = -57.482395, log improvement ratio=1.302124\n",
      "[BiScaler] Iter 43: log residual = -58.305819, log improvement ratio=0.823424\n",
      "[BiScaler] Iter 44: log residual = -58.629056, log improvement ratio=0.323237\n",
      "[BiScaler] Iter 45: log residual = -58.712732, log improvement ratio=0.083676\n",
      "[BiScaler] Iter 46: log residual = -58.722752, log improvement ratio=0.010020\n",
      "[BiScaler] Iter 47: log residual = -58.736638, log improvement ratio=0.013886\n",
      "[BiScaler] Iter 48: log residual = -58.740184, log improvement ratio=0.003547\n",
      "[BiScaler] Iter 49: log residual = -58.745254, log improvement ratio=0.005069\n",
      "[BiScaler] Iter 50: log residual = -58.719638, log improvement ratio=-0.025616\n",
      "[SoftImpute] Max Singular Value of X_init = 1510.174995\n",
      "[SoftImpute] Iter 1: observed MAE=0.135737 rank=589\n",
      "[SoftImpute] Iter 2: observed MAE=0.139732 rank=589\n",
      "[SoftImpute] Iter 3: observed MAE=0.142320 rank=500\n",
      "[SoftImpute] Iter 4: observed MAE=0.141661 rank=426\n",
      "[SoftImpute] Iter 5: observed MAE=0.140950 rank=382\n",
      "[SoftImpute] Iter 6: observed MAE=0.140093 rank=354\n",
      "[SoftImpute] Iter 7: observed MAE=0.139389 rank=336\n",
      "[SoftImpute] Iter 8: observed MAE=0.138862 rank=324\n",
      "[SoftImpute] Iter 9: observed MAE=0.138497 rank=317\n",
      "[SoftImpute] Iter 10: observed MAE=0.138244 rank=312\n",
      "[SoftImpute] Iter 11: observed MAE=0.138071 rank=308\n",
      "[SoftImpute] Iter 12: observed MAE=0.137955 rank=307\n",
      "[SoftImpute] Iter 13: observed MAE=0.137878 rank=305\n",
      "[SoftImpute] Iter 14: observed MAE=0.137825 rank=304\n",
      "[SoftImpute] Iter 15: observed MAE=0.137788 rank=303\n",
      "[SoftImpute] Iter 16: observed MAE=0.137762 rank=303\n",
      "[SoftImpute] Iter 17: observed MAE=0.137745 rank=303\n",
      "[SoftImpute] Iter 18: observed MAE=0.137732 rank=303\n",
      "[SoftImpute] Iter 19: observed MAE=0.137723 rank=303\n",
      "[SoftImpute] Iter 20: observed MAE=0.137716 rank=302\n",
      "[SoftImpute] Iter 21: observed MAE=0.137711 rank=302\n",
      "[SoftImpute] Stopped after iteration 21 for lambda=30.203500\n"
     ]
    }
   ],
   "source": [
    "transposed_mat = transposed.as_matrix()\n",
    "biscaler = BiScaler()\n",
    "\n",
    "softimpute_t0 = time.time()\n",
    "# perform the scaling appropriate for this imputation strategy\n",
    "transposed_normalized = biscaler.fit_transform(transposed_mat)\n",
    "\n",
    "# the imputation itself\n",
    "imputed_softimpute = SoftImpute().fit_transform(transposed_normalized)\n",
    "\n",
    "# we don't want the transformed values and we want samples to be columns\n",
    "inverse_softimpute = biscaler.inverse_transform(imputed_softimpute)\n",
    "softimpute_t1 = time.time()"
   ]
  },
  {
   "cell_type": "code",
   "execution_count": 7,
   "metadata": {},
   "outputs": [
    {
     "name": "stdout",
     "output_type": "stream",
     "text": [
      "Imputing row 1/1000 with 4532 missing, elapsed time: 119.958\n",
      "Imputing row 101/1000 with 4637 missing, elapsed time: 125.990\n",
      "Imputing row 201/1000 with 4525 missing, elapsed time: 132.005\n",
      "Imputing row 301/1000 with 4415 missing, elapsed time: 137.993\n",
      "Imputing row 401/1000 with 4513 missing, elapsed time: 144.070\n",
      "Imputing row 501/1000 with 4518 missing, elapsed time: 150.093\n",
      "Imputing row 601/1000 with 4563 missing, elapsed time: 156.162\n",
      "Imputing row 701/1000 with 4435 missing, elapsed time: 162.200\n",
      "Imputing row 801/1000 with 4328 missing, elapsed time: 168.303\n",
      "Imputing row 901/1000 with 4506 missing, elapsed time: 174.321\n"
     ]
    }
   ],
   "source": [
    "scaler = preprocessing.StandardScaler(copy=True)\n",
    "scaler.fit(transposed)\n",
    "\n",
    "knn_t0 = time.time()\n",
    "scaled = pd.DataFrame(scaler.transform(transposed),\n",
    "                      index=transposed.index,\n",
    "                      columns=transposed.columns\n",
    ")\n",
    "\n",
    "# perform the imputation, setting k=10 as is standard for gene expression data\n",
    "imputed_knn_row = KNN(k=10).fit_transform(scaled)\n",
    "\n",
    "# inverse transformation -- we don't want the standard scores\n",
    "inverse_knn_row = scaler.inverse_transform(imputed_knn_row)\n",
    "knn_t1 = time.time()"
   ]
  },
  {
   "cell_type": "code",
   "execution_count": 8,
   "metadata": {},
   "outputs": [
    {
     "data": {
      "text/plain": [
       "'IterativeSVD: 10.729404926300049'"
      ]
     },
     "execution_count": 8,
     "metadata": {},
     "output_type": "execute_result"
    }
   ],
   "source": [
    "\"IterativeSVD: \" + str(svd_t1-svd_t0)"
   ]
  },
  {
   "cell_type": "code",
   "execution_count": 9,
   "metadata": {},
   "outputs": [
    {
     "data": {
      "text/plain": [
       "'KNN: 180.74890208244324'"
      ]
     },
     "execution_count": 9,
     "metadata": {},
     "output_type": "execute_result"
    }
   ],
   "source": [
    "\"KNN: \" + str(knn_t1-knn_t0)"
   ]
  },
  {
   "cell_type": "code",
   "execution_count": 10,
   "metadata": {},
   "outputs": [
    {
     "data": {
      "text/plain": [
       "'SoftImpute: 152.42456245422363'"
      ]
     },
     "execution_count": 10,
     "metadata": {},
     "output_type": "execute_result"
    }
   ],
   "source": [
    "\"SoftImpute: \" + str(softimpute_t1-softimpute_t0)"
   ]
  }
 ],
 "metadata": {
  "kernelspec": {
   "display_name": "Python 3",
   "language": "python",
   "name": "python3"
  },
  "language_info": {
   "codemirror_mode": {
    "name": "ipython",
    "version": 3
   },
   "file_extension": ".py",
   "mimetype": "text/x-python",
   "name": "python",
   "nbconvert_exporter": "python",
   "pygments_lexer": "ipython3",
   "version": "3.6.3"
  }
 },
 "nbformat": 4,
 "nbformat_minor": 2
}
